{
 "cells": [
  {
   "cell_type": "code",
   "execution_count": 3,
   "id": "545f44cd-565c-4125-a8eb-2d851407736a",
   "metadata": {},
   "outputs": [],
   "source": [
    "# toxicity analysis using DistilBERT\n",
    "import pandas as pd\n",
    "from transformers import AutoTokenizer, AutoModelForSequenceClassification\n",
    "import torch"
   ]
  },
  {
   "cell_type": "code",
   "execution_count": 4,
   "id": "a285ba72-c433-4e29-8194-8772b8cdabe6",
   "metadata": {},
   "outputs": [
    {
     "name": "stdout",
     "output_type": "stream",
     "text": [
      "Loaded 1744 comments\n"
     ]
    }
   ],
   "source": [
    "\n",
    "df = pd.read_csv('zizaran_day_1_full_1700.csv')\n",
    "print(f\"Loaded {len(df)} comments\")"
   ]
  },
  {
   "cell_type": "code",
   "execution_count": 5,
   "id": "7a3f47dc-3b47-48ee-91f1-c4d0e2ca3e0e",
   "metadata": {},
   "outputs": [],
   "source": [
    "\n",
    "tokenizer = AutoTokenizer.from_pretrained('distilbert-base-uncased-finetuned-sst-2-english')\n",
    "model = AutoModelForSequenceClassification.from_pretrained('distilbert-base-uncased-finetuned-sst-2-english')"
   ]
  },
  {
   "cell_type": "code",
   "execution_count": 6,
   "id": "55f65a76-d95e-476d-9c7f-e41549b229a9",
   "metadata": {},
   "outputs": [],
   "source": [
    "\n",
    "def check_toxicity(text):\n",
    "    if not isinstance(text, str) or len(text.strip()) == 0:\n",
    "        return 0.0\n",
    "    \n",
    "    # Tokenize and convert to model inputs\n",
    "    inputs = tokenizer(text, return_tensors=\"pt\", truncation=True, max_length=512)\n",
    "    \n",
    "    # Get prediction\n",
    "    with torch.no_grad():\n",
    "        outputs = model(**inputs)\n",
    "    \n",
    "    # Get probabilities (0 = negative/toxic, 1 = positive/non-toxic)\n",
    "    probs = torch.nn.functional.softmax(outputs.logits, dim=1).numpy()[0]\n",
    "    \n",
    "    # For sentiment models: 1 - positive score = toxicity score\n",
    "    toxicity_score = 1 - probs[1]\n",
    "    \n",
    "    return toxicity_score\n"
   ]
  },
  {
   "cell_type": "code",
   "execution_count": 11,
   "id": "3ac89cae-edab-4e51-bef2-691c8ebceb28",
   "metadata": {},
   "outputs": [
    {
     "name": "stdout",
     "output_type": "stream",
     "text": [
      "\n",
      "Testing on a few examples:\n",
      "Comment: I wouldn't show that to my kid :O\n",
      "Toxicity score: 0.9821\n",
      "--------------------------------------------------\n",
      "Comment: how many builds are really viable in Ruthless? except cold dot... which almost everybody seems to be going for :D\n",
      "Toxicity score: 0.9959\n",
      "--------------------------------------------------\n",
      "Comment: too much sunk cost and ppl getting possesive imo\n",
      "Toxicity score: 0.9995\n",
      "--------------------------------------------------\n",
      "Comment: I hope we get a expedition / heist level league\n",
      "Toxicity score: 0.9812\n",
      "--------------------------------------------------\n",
      "Comment: @jisuo Depends on where in sweden you are.. northern sweden yes. southern sweden not so much\n",
      "Toxicity score: 0.9983\n",
      "--------------------------------------------------\n"
     ]
    }
   ],
   "source": [
    "\n",
    "print(\"\\nTesting on a few examples:\")\n",
    "sample_comments = df['comment_text'].dropna().sample(5).tolist()\n",
    "for comment in sample_comments:\n",
    "    toxicity = check_toxicity(comment)\n",
    "    print(f\"Comment: {comment}\")\n",
    "    print(f\"Toxicity score: {toxicity:.4f}\")\n",
    "    print(\"-\" * 50)"
   ]
  },
  {
   "cell_type": "code",
   "execution_count": 33,
   "id": "57c644fa-a7ef-4a18-86c8-fcb87eb0013f",
   "metadata": {},
   "outputs": [
    {
     "name": "stdout",
     "output_type": "stream",
     "text": [
      "\n",
      "Analyzing 100 comments...\n",
      "Processing comment 1/100\n",
      "Processing comment 11/100\n",
      "Processing comment 21/100\n",
      "Processing comment 31/100\n",
      "Processing comment 41/100\n",
      "Processing comment 51/100\n",
      "Processing comment 61/100\n",
      "Processing comment 71/100\n",
      "Processing comment 81/100\n",
      "Processing comment 91/100\n"
     ]
    }
   ],
   "source": [
    "\n",
    "sample_size = 100\n",
    "sample_df = df.head(sample_size).copy()\n",
    "\n",
    "# Process each comment\n",
    "print(f\"\\nAnalyzing {sample_size} comments...\")\n",
    "results = []\n",
    "for i, comment in enumerate(sample_df['comment_text']):\n",
    "    if i % 10 == 0:  # Progress update\n",
    "        print(f\"Processing comment {i+1}/{sample_size}\")\n",
    "    \n",
    "    toxicity = check_toxicity(comment)\n",
    "    results.append(toxicity)\n",
    "\n",
    "# Add results to dataframe\n",
    "sample_df['toxicity_score'] = results\n",
    "sample_df['DistilBERT'] = (sample_df['toxicity_score'] > 0.5).map({True: 'yes', False: 'no'})"
   ]
  },
  {
   "cell_type": "code",
   "execution_count": 35,
   "id": "9c99c562-2bdb-4cb3-8296-0fe9b0abd260",
   "metadata": {},
   "outputs": [
    {
     "name": "stdout",
     "output_type": "stream",
     "text": [
      "\n",
      "Results:\n",
      "Total comments analyzed: 100\n",
      "Comments detected as toxic: 77 (77.0%)\n"
     ]
    }
   ],
   "source": [
    "\n",
    "print(\"\\nResults:\")\n",
    "print(f\"Total comments analyzed: {len(sample_df)}\")\n",
    "print(f\"Comments detected as toxic: {(sample_df['DistilBERT'] == 'yes').sum()} ({(sample_df['DistilBERT'] == 'yes').mean()*100:.1f}%)\")"
   ]
  },
  {
   "cell_type": "code",
   "execution_count": 37,
   "id": "2121d35b-3943-4248-88c4-d3c692c3aaa2",
   "metadata": {},
   "outputs": [
    {
     "name": "stdout",
     "output_type": "stream",
     "text": [
      "\n",
      "Most toxic comments:\n",
      "Comment: He is just too bad to even enjoy this mode\n",
      "Toxicity score: 0.9998\n",
      "--------------------------------------------------\n",
      "Comment: This chat in particular has the worst chatters Madge\n",
      "Toxicity score: 0.9998\n",
      "--------------------------------------------------\n",
      "Comment: i wanna play poe so bad but i feel like its pointless before 3.20 since theres so many good changes Sadeg\n",
      "Toxicity score: 0.9998\n",
      "--------------------------------------------------\n",
      "Comment: this gamemode is not for me peepoRage and thus it should not exist peepoRage\n",
      "Toxicity score: 0.9997\n",
      "--------------------------------------------------\n",
      "Comment: any reason why everyone is just playing the silly broken 1 button rf/cold builds when this is supposed to be hard mode XD\n",
      "Toxicity score: 0.9996\n",
      "--------------------------------------------------\n"
     ]
    }
   ],
   "source": [
    "\n",
    "print(\"\\nMost toxic comments:\")\n",
    "most_toxic = sample_df.sort_values('toxicity_score', ascending=False).head(5)\n",
    "for i, row in most_toxic.iterrows():\n",
    "    print(f\"Comment: {row['comment_text']}\")\n",
    "    print(f\"Toxicity score: {row['toxicity_score']:.4f}\")\n",
    "    print(\"-\" * 50)"
   ]
  },
  {
   "cell_type": "code",
   "execution_count": 39,
   "id": "b497dee6-3509-43ff-aa4e-c8d3a3531366",
   "metadata": {},
   "outputs": [
    {
     "name": "stdout",
     "output_type": "stream",
     "text": [
      "\n",
      "Results saved to toxicity_results.csv\n"
     ]
    }
   ],
   "source": [
    "\n",
    "output_file = 'toxicity_results.csv'\n",
    "sample_df.to_csv(output_file, index=False)\n",
    "print(f\"\\nResults saved to {output_file}\")"
   ]
  },
  {
   "cell_type": "code",
   "execution_count": 41,
   "id": "ed2bbde7-637a-4d9d-a9d8-7a31b4168607",
   "metadata": {},
   "outputs": [
    {
     "name": "stdout",
     "output_type": "stream",
     "text": [
      "\n",
      "Analyzing all comments... (this may take a while)\n",
      "Processing comment 1/1744\n",
      "Processing comment 501/1744\n",
      "Processing comment 1001/1744\n",
      "Processing comment 1501/1744\n",
      "Full analysis complete!\n"
     ]
    }
   ],
   "source": [
    "\n",
    "print(\"\\nAnalyzing all comments... (this may take a while)\")\n",
    "all_results = []\n",
    "for i, comment in enumerate(df['comment_text']):\n",
    "    if i % 500 == 0:  # Progress update\n",
    "        print(f\"Processing comment {i+1}/{len(df)}\")\n",
    "    \n",
    "    toxicity = check_toxicity(comment)\n",
    "    all_results.append(toxicity)\n",
    "\n",
    "df['toxicity_score'] = all_results\n",
    "df['DistilBERT'] = (df['toxicity_score'] > 0.5).map({True: 'yes', False: 'no'})\n",
    "df.to_csv('zizarian.csv', index=False)\n",
    "print(\"Full analysis complete!\")"
   ]
  },
  {
   "cell_type": "code",
   "execution_count": null,
   "id": "33264deb-bd3b-44f0-998b-66e2c60288f9",
   "metadata": {},
   "outputs": [],
   "source": []
  }
 ],
 "metadata": {
  "kernelspec": {
   "display_name": "Python [conda env:base] *",
   "language": "python",
   "name": "conda-base-py"
  },
  "language_info": {
   "codemirror_mode": {
    "name": "ipython",
    "version": 3
   },
   "file_extension": ".py",
   "mimetype": "text/x-python",
   "name": "python",
   "nbconvert_exporter": "python",
   "pygments_lexer": "ipython3",
   "version": "3.12.7"
  }
 },
 "nbformat": 4,
 "nbformat_minor": 5
}
